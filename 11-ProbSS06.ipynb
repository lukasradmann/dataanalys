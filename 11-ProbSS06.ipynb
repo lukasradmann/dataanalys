{
 "cells": [
  {
   "cell_type": "markdown",
   "metadata": {
    "deletable": false
   },
   "source": [
    "# [Introduction to Data Science](http://datascience-intro.github.io/1MS041-2023/)    \n",
    "## 1MS041, 2023 \n",
    "&copy;2023 Raazesh Sainudiin, Benny Avelin. [Attribution 4.0 International     (CC BY 4.0)](https://creativecommons.org/licenses/by/4.0/)"
   ]
  },
  {
   "cell_type": "markdown",
   "metadata": {},
   "source": [
    "## Other measurements of performance\n",
    "\n",
    "Recall that in the logistic regression case our function $G(x) \\in [0,1]$ and represents the probability of the label being $1$, we then used the following rule to construct a decision function from this $G$, i.e. \n",
    "$$\n",
    "    g(x) = \n",
    "    \\begin{cases}\n",
    "        1, & \\text{if } G(x) > 1/2 \\\\\n",
    "        0, & \\text{otherwise.}\n",
    "    \\end{cases}\n",
    "$$\n",
    "The parameter $1/2$ can be changed in order to create a trade-off between precision and recall.\n",
    "\n",
    "Lets consider the function\n",
    "$$\n",
    "    g_\\alpha(x) = \n",
    "    \\begin{cases}\n",
    "        1, & \\text{if } G(x) > \\alpha \\\\\n",
    "        0, & \\text{otherwise.}\n",
    "    \\end{cases}\n",
    "$$\n",
    "where $\\alpha \\in [0,1]$, then for each such $\\alpha$ we get a precision and recall, i.e.\n",
    "$$\n",
    "    \\begin{aligned}\n",
    "        \\text{Precision:} \\quad \\text{Pr}(\\alpha) =  P(Y = 1 \\mid g_\\alpha(X) = 1) \\\\\n",
    "        \\text{Recall:} \\quad \\text{Re} (\\alpha) = P(g_\\alpha(X) = 1 \\mid Y = 1).\n",
    "    \\end{aligned}\n",
    "$$\n",
    "\n",
    "These functions can be plotted as functions of $\\alpha$, we can see that below"
   ]
  },
  {
   "cell_type": "code",
   "execution_count": 1,
   "metadata": {},
   "outputs": [
    {
     "data": {
      "text/html": [
       "<style>#sk-container-id-1 {color: black;}#sk-container-id-1 pre{padding: 0;}#sk-container-id-1 div.sk-toggleable {background-color: white;}#sk-container-id-1 label.sk-toggleable__label {cursor: pointer;display: block;width: 100%;margin-bottom: 0;padding: 0.3em;box-sizing: border-box;text-align: center;}#sk-container-id-1 label.sk-toggleable__label-arrow:before {content: \"▸\";float: left;margin-right: 0.25em;color: #696969;}#sk-container-id-1 label.sk-toggleable__label-arrow:hover:before {color: black;}#sk-container-id-1 div.sk-estimator:hover label.sk-toggleable__label-arrow:before {color: black;}#sk-container-id-1 div.sk-toggleable__content {max-height: 0;max-width: 0;overflow: hidden;text-align: left;background-color: #f0f8ff;}#sk-container-id-1 div.sk-toggleable__content pre {margin: 0.2em;color: black;border-radius: 0.25em;background-color: #f0f8ff;}#sk-container-id-1 input.sk-toggleable__control:checked~div.sk-toggleable__content {max-height: 200px;max-width: 100%;overflow: auto;}#sk-container-id-1 input.sk-toggleable__control:checked~label.sk-toggleable__label-arrow:before {content: \"▾\";}#sk-container-id-1 div.sk-estimator input.sk-toggleable__control:checked~label.sk-toggleable__label {background-color: #d4ebff;}#sk-container-id-1 div.sk-label input.sk-toggleable__control:checked~label.sk-toggleable__label {background-color: #d4ebff;}#sk-container-id-1 input.sk-hidden--visually {border: 0;clip: rect(1px 1px 1px 1px);clip: rect(1px, 1px, 1px, 1px);height: 1px;margin: -1px;overflow: hidden;padding: 0;position: absolute;width: 1px;}#sk-container-id-1 div.sk-estimator {font-family: monospace;background-color: #f0f8ff;border: 1px dotted black;border-radius: 0.25em;box-sizing: border-box;margin-bottom: 0.5em;}#sk-container-id-1 div.sk-estimator:hover {background-color: #d4ebff;}#sk-container-id-1 div.sk-parallel-item::after {content: \"\";width: 100%;border-bottom: 1px solid gray;flex-grow: 1;}#sk-container-id-1 div.sk-label:hover label.sk-toggleable__label {background-color: #d4ebff;}#sk-container-id-1 div.sk-serial::before {content: \"\";position: absolute;border-left: 1px solid gray;box-sizing: border-box;top: 0;bottom: 0;left: 50%;z-index: 0;}#sk-container-id-1 div.sk-serial {display: flex;flex-direction: column;align-items: center;background-color: white;padding-right: 0.2em;padding-left: 0.2em;position: relative;}#sk-container-id-1 div.sk-item {position: relative;z-index: 1;}#sk-container-id-1 div.sk-parallel {display: flex;align-items: stretch;justify-content: center;background-color: white;position: relative;}#sk-container-id-1 div.sk-item::before, #sk-container-id-1 div.sk-parallel-item::before {content: \"\";position: absolute;border-left: 1px solid gray;box-sizing: border-box;top: 0;bottom: 0;left: 50%;z-index: -1;}#sk-container-id-1 div.sk-parallel-item {display: flex;flex-direction: column;z-index: 1;position: relative;background-color: white;}#sk-container-id-1 div.sk-parallel-item:first-child::after {align-self: flex-end;width: 50%;}#sk-container-id-1 div.sk-parallel-item:last-child::after {align-self: flex-start;width: 50%;}#sk-container-id-1 div.sk-parallel-item:only-child::after {width: 0;}#sk-container-id-1 div.sk-dashed-wrapped {border: 1px dashed gray;margin: 0 0.4em 0.5em 0.4em;box-sizing: border-box;padding-bottom: 0.4em;background-color: white;}#sk-container-id-1 div.sk-label label {font-family: monospace;font-weight: bold;display: inline-block;line-height: 1.2em;}#sk-container-id-1 div.sk-label-container {text-align: center;}#sk-container-id-1 div.sk-container {/* jupyter's `normalize.less` sets `[hidden] { display: none; }` but bootstrap.min.css set `[hidden] { display: none !important; }` so we also need the `!important` here to be able to override the default hidden behavior on the sphinx rendered scikit-learn.org. See: https://github.com/scikit-learn/scikit-learn/issues/21755 */display: inline-block !important;position: relative;}#sk-container-id-1 div.sk-text-repr-fallback {display: none;}</style><div id=\"sk-container-id-1\" class=\"sk-top-container\"><div class=\"sk-text-repr-fallback\"><pre>SVC(kernel=&#x27;linear&#x27;, probability=True)</pre><b>In a Jupyter environment, please rerun this cell to show the HTML representation or trust the notebook. <br />On GitHub, the HTML representation is unable to render, please try loading this page with nbviewer.org.</b></div><div class=\"sk-container\" hidden><div class=\"sk-item\"><div class=\"sk-estimator sk-toggleable\"><input class=\"sk-toggleable__control sk-hidden--visually\" id=\"sk-estimator-id-1\" type=\"checkbox\" checked><label for=\"sk-estimator-id-1\" class=\"sk-toggleable__label sk-toggleable__label-arrow\">SVC</label><div class=\"sk-toggleable__content\"><pre>SVC(kernel=&#x27;linear&#x27;, probability=True)</pre></div></div></div></div></div>"
      ],
      "text/plain": [
       "SVC(kernel='linear', probability=True)"
      ]
     },
     "execution_count": 1,
     "metadata": {},
     "output_type": "execute_result"
    }
   ],
   "source": [
    "from sklearn.datasets import load_digits\n",
    "import matplotlib.pyplot as plt\n",
    "from sklearn.datasets import load_digits\n",
    "digits = load_digits()\n",
    "\n",
    "from sklearn.svm import SVC\n",
    "\n",
    "labels = digits['target'] >= 5\n",
    "\n",
    "X = digits['data']\n",
    "\n",
    "from sklearn.model_selection import train_test_split\n",
    "X_train, X_test, Y_train, Y_test = train_test_split(X,labels)\n",
    "\n",
    "per = SVC(kernel='linear',probability=True)\n",
    "\n",
    "per.fit(X_train,Y_train)"
   ]
  },
  {
   "cell_type": "code",
   "execution_count": 2,
   "metadata": {},
   "outputs": [
    {
     "data": {
      "text/html": [
       "<style>#sk-container-id-2 {color: black;}#sk-container-id-2 pre{padding: 0;}#sk-container-id-2 div.sk-toggleable {background-color: white;}#sk-container-id-2 label.sk-toggleable__label {cursor: pointer;display: block;width: 100%;margin-bottom: 0;padding: 0.3em;box-sizing: border-box;text-align: center;}#sk-container-id-2 label.sk-toggleable__label-arrow:before {content: \"▸\";float: left;margin-right: 0.25em;color: #696969;}#sk-container-id-2 label.sk-toggleable__label-arrow:hover:before {color: black;}#sk-container-id-2 div.sk-estimator:hover label.sk-toggleable__label-arrow:before {color: black;}#sk-container-id-2 div.sk-toggleable__content {max-height: 0;max-width: 0;overflow: hidden;text-align: left;background-color: #f0f8ff;}#sk-container-id-2 div.sk-toggleable__content pre {margin: 0.2em;color: black;border-radius: 0.25em;background-color: #f0f8ff;}#sk-container-id-2 input.sk-toggleable__control:checked~div.sk-toggleable__content {max-height: 200px;max-width: 100%;overflow: auto;}#sk-container-id-2 input.sk-toggleable__control:checked~label.sk-toggleable__label-arrow:before {content: \"▾\";}#sk-container-id-2 div.sk-estimator input.sk-toggleable__control:checked~label.sk-toggleable__label {background-color: #d4ebff;}#sk-container-id-2 div.sk-label input.sk-toggleable__control:checked~label.sk-toggleable__label {background-color: #d4ebff;}#sk-container-id-2 input.sk-hidden--visually {border: 0;clip: rect(1px 1px 1px 1px);clip: rect(1px, 1px, 1px, 1px);height: 1px;margin: -1px;overflow: hidden;padding: 0;position: absolute;width: 1px;}#sk-container-id-2 div.sk-estimator {font-family: monospace;background-color: #f0f8ff;border: 1px dotted black;border-radius: 0.25em;box-sizing: border-box;margin-bottom: 0.5em;}#sk-container-id-2 div.sk-estimator:hover {background-color: #d4ebff;}#sk-container-id-2 div.sk-parallel-item::after {content: \"\";width: 100%;border-bottom: 1px solid gray;flex-grow: 1;}#sk-container-id-2 div.sk-label:hover label.sk-toggleable__label {background-color: #d4ebff;}#sk-container-id-2 div.sk-serial::before {content: \"\";position: absolute;border-left: 1px solid gray;box-sizing: border-box;top: 0;bottom: 0;left: 50%;z-index: 0;}#sk-container-id-2 div.sk-serial {display: flex;flex-direction: column;align-items: center;background-color: white;padding-right: 0.2em;padding-left: 0.2em;position: relative;}#sk-container-id-2 div.sk-item {position: relative;z-index: 1;}#sk-container-id-2 div.sk-parallel {display: flex;align-items: stretch;justify-content: center;background-color: white;position: relative;}#sk-container-id-2 div.sk-item::before, #sk-container-id-2 div.sk-parallel-item::before {content: \"\";position: absolute;border-left: 1px solid gray;box-sizing: border-box;top: 0;bottom: 0;left: 50%;z-index: -1;}#sk-container-id-2 div.sk-parallel-item {display: flex;flex-direction: column;z-index: 1;position: relative;background-color: white;}#sk-container-id-2 div.sk-parallel-item:first-child::after {align-self: flex-end;width: 50%;}#sk-container-id-2 div.sk-parallel-item:last-child::after {align-self: flex-start;width: 50%;}#sk-container-id-2 div.sk-parallel-item:only-child::after {width: 0;}#sk-container-id-2 div.sk-dashed-wrapped {border: 1px dashed gray;margin: 0 0.4em 0.5em 0.4em;box-sizing: border-box;padding-bottom: 0.4em;background-color: white;}#sk-container-id-2 div.sk-label label {font-family: monospace;font-weight: bold;display: inline-block;line-height: 1.2em;}#sk-container-id-2 div.sk-label-container {text-align: center;}#sk-container-id-2 div.sk-container {/* jupyter's `normalize.less` sets `[hidden] { display: none; }` but bootstrap.min.css set `[hidden] { display: none !important; }` so we also need the `!important` here to be able to override the default hidden behavior on the sphinx rendered scikit-learn.org. See: https://github.com/scikit-learn/scikit-learn/issues/21755 */display: inline-block !important;position: relative;}#sk-container-id-2 div.sk-text-repr-fallback {display: none;}</style><div id=\"sk-container-id-2\" class=\"sk-top-container\"><div class=\"sk-text-repr-fallback\"><pre>SVC(probability=True)</pre><b>In a Jupyter environment, please rerun this cell to show the HTML representation or trust the notebook. <br />On GitHub, the HTML representation is unable to render, please try loading this page with nbviewer.org.</b></div><div class=\"sk-container\" hidden><div class=\"sk-item\"><div class=\"sk-estimator sk-toggleable\"><input class=\"sk-toggleable__control sk-hidden--visually\" id=\"sk-estimator-id-2\" type=\"checkbox\" checked><label for=\"sk-estimator-id-2\" class=\"sk-toggleable__label sk-toggleable__label-arrow\">SVC</label><div class=\"sk-toggleable__content\"><pre>SVC(probability=True)</pre></div></div></div></div></div>"
      ],
      "text/plain": [
       "SVC(probability=True)"
      ]
     },
     "execution_count": 2,
     "metadata": {},
     "output_type": "execute_result"
    }
   ],
   "source": [
    "per_rbf = SVC(kernel='rbf',probability=True)\n",
    "\n",
    "per_rbf.fit(X_train,Y_train)"
   ]
  },
  {
   "cell_type": "code",
   "execution_count": 3,
   "metadata": {},
   "outputs": [],
   "source": [
    "from Utils import classification_report_interval"
   ]
  },
  {
   "cell_type": "code",
   "execution_count": 4,
   "metadata": {},
   "outputs": [
    {
     "name": "stdout",
     "output_type": "stream",
     "text": [
      "            labels           precision             recall\n",
      "\n",
      "             False  0.91 : [0.79,1.00] 0.89 : [0.76,1.00]\n",
      "              True  0.89 : [0.77,1.00] 0.92 : [0.79,1.00]\n",
      "\n",
      "          accuracy                                        0.90 : [0.81,0.99]\n",
      "\n"
     ]
    }
   ],
   "source": [
    "print(classification_report_interval(Y_test,per.predict(X_test)))"
   ]
  },
  {
   "cell_type": "code",
   "execution_count": 5,
   "metadata": {},
   "outputs": [
    {
     "data": {
      "text/plain": [
       "array([[7.80880575e-02, 9.21911943e-01],\n",
       "       [9.64300387e-01, 3.56996129e-02],\n",
       "       [9.87370479e-01, 1.26295207e-02],\n",
       "       [3.34856421e-02, 9.66514358e-01],\n",
       "       [5.65115139e-01, 4.34884861e-01],\n",
       "       [6.41375533e-02, 9.35862447e-01],\n",
       "       [9.16052966e-01, 8.39470343e-02],\n",
       "       [3.11091975e-01, 6.88908025e-01],\n",
       "       [9.15885271e-01, 8.41147292e-02],\n",
       "       [9.77005930e-01, 2.29940696e-02],\n",
       "       [5.96603488e-02, 9.40339651e-01],\n",
       "       [3.35213206e-01, 6.64786794e-01],\n",
       "       [8.80575005e-01, 1.19424995e-01],\n",
       "       [4.91844670e-01, 5.08155330e-01],\n",
       "       [5.03440577e-02, 9.49655942e-01],\n",
       "       [9.67677247e-01, 3.23227532e-02],\n",
       "       [9.94960268e-01, 5.03973157e-03],\n",
       "       [9.98174000e-02, 9.00182600e-01],\n",
       "       [5.81313043e-01, 4.18686957e-01],\n",
       "       [9.95740538e-01, 4.25946206e-03],\n",
       "       [9.77125245e-01, 2.28747551e-02],\n",
       "       [1.75145084e-01, 8.24854916e-01],\n",
       "       [9.24961630e-01, 7.50383701e-02],\n",
       "       [3.10624706e-02, 9.68937529e-01],\n",
       "       [9.99782732e-01, 2.17267735e-04],\n",
       "       [1.92098876e-01, 8.07901124e-01],\n",
       "       [1.01310710e-02, 9.89868929e-01],\n",
       "       [6.79260175e-03, 9.93207398e-01],\n",
       "       [8.68808016e-01, 1.31191984e-01],\n",
       "       [5.47288569e-03, 9.94527114e-01],\n",
       "       [4.63880906e-01, 5.36119094e-01],\n",
       "       [8.25797673e-01, 1.74202327e-01],\n",
       "       [6.62762443e-01, 3.37237557e-01],\n",
       "       [5.90181482e-02, 9.40981852e-01],\n",
       "       [9.48337028e-01, 5.16629719e-02],\n",
       "       [6.22754614e-01, 3.77245386e-01],\n",
       "       [1.28959121e-01, 8.71040879e-01],\n",
       "       [9.95586380e-01, 4.41362034e-03],\n",
       "       [9.79570368e-01, 2.04296322e-02],\n",
       "       [1.09953537e-02, 9.89004646e-01],\n",
       "       [3.80620071e-02, 9.61937993e-01],\n",
       "       [9.43704625e-01, 5.62953750e-02],\n",
       "       [5.00000000e-01, 5.00000000e-01],\n",
       "       [8.79798673e-01, 1.20201327e-01],\n",
       "       [4.05866723e-02, 9.59413328e-01],\n",
       "       [1.62048702e-01, 8.37951298e-01],\n",
       "       [1.30680570e-01, 8.69319430e-01],\n",
       "       [8.66083744e-01, 1.33916256e-01],\n",
       "       [1.58889512e-01, 8.41110488e-01],\n",
       "       [5.19185482e-02, 9.48081452e-01],\n",
       "       [8.48489629e-02, 9.15151037e-01],\n",
       "       [3.41237308e-01, 6.58762692e-01],\n",
       "       [6.78256170e-01, 3.21743830e-01],\n",
       "       [3.57260861e-01, 6.42739139e-01],\n",
       "       [9.81579034e-01, 1.84209661e-02],\n",
       "       [5.55712353e-01, 4.44287647e-01],\n",
       "       [6.54072779e-02, 9.34592722e-01],\n",
       "       [5.39599382e-02, 9.46040062e-01],\n",
       "       [9.44571099e-01, 5.54289009e-02],\n",
       "       [8.21616983e-01, 1.78383017e-01],\n",
       "       [1.42189599e-01, 8.57810401e-01],\n",
       "       [3.12800629e-02, 9.68719937e-01],\n",
       "       [1.62149036e-01, 8.37850964e-01],\n",
       "       [8.89258888e-01, 1.10741112e-01],\n",
       "       [5.54285910e-02, 9.44571409e-01],\n",
       "       [3.90710704e-02, 9.60928930e-01],\n",
       "       [8.46989462e-01, 1.53010538e-01],\n",
       "       [6.46289340e-02, 9.35371066e-01],\n",
       "       [6.57669407e-01, 3.42330593e-01],\n",
       "       [8.43658708e-01, 1.56341292e-01],\n",
       "       [1.65425842e-02, 9.83457416e-01],\n",
       "       [1.17510061e-01, 8.82489939e-01],\n",
       "       [1.43723646e-01, 8.56276354e-01],\n",
       "       [6.11579379e-01, 3.88420621e-01],\n",
       "       [2.99096163e-02, 9.70090384e-01],\n",
       "       [9.28099221e-01, 7.19007789e-02],\n",
       "       [1.02520438e-01, 8.97479562e-01],\n",
       "       [5.96626397e-01, 4.03373603e-01],\n",
       "       [1.58157271e-05, 9.99984184e-01],\n",
       "       [1.66301713e-02, 9.83369829e-01],\n",
       "       [7.27909781e-01, 2.72090219e-01],\n",
       "       [6.60605384e-02, 9.33939462e-01],\n",
       "       [7.85718055e-01, 2.14281945e-01],\n",
       "       [9.87466109e-01, 1.25338911e-02],\n",
       "       [3.35359536e-02, 9.66464046e-01],\n",
       "       [1.31247261e-01, 8.68752739e-01],\n",
       "       [6.85517907e-02, 9.31448209e-01],\n",
       "       [9.98869006e-01, 1.13099431e-03],\n",
       "       [4.63576995e-01, 5.36423005e-01],\n",
       "       [2.32519545e-01, 7.67480455e-01],\n",
       "       [8.64693382e-02, 9.13530662e-01],\n",
       "       [9.77856812e-01, 2.21431877e-02],\n",
       "       [1.86619444e-01, 8.13380556e-01],\n",
       "       [9.17748180e-02, 9.08225182e-01],\n",
       "       [3.19929122e-01, 6.80070878e-01],\n",
       "       [6.04985418e-01, 3.95014582e-01],\n",
       "       [8.79033452e-01, 1.20966548e-01],\n",
       "       [3.15215136e-02, 9.68478486e-01],\n",
       "       [9.85878256e-01, 1.41217437e-02],\n",
       "       [9.30579770e-01, 6.94202298e-02],\n",
       "       [1.18455378e-01, 8.81544622e-01],\n",
       "       [4.86372884e-01, 5.13627116e-01],\n",
       "       [8.43017288e-01, 1.56982712e-01],\n",
       "       [2.83131207e-02, 9.71686879e-01],\n",
       "       [5.91356738e-02, 9.40864326e-01],\n",
       "       [9.45907845e-01, 5.40921551e-02],\n",
       "       [3.03965827e-03, 9.96960342e-01],\n",
       "       [2.84579904e-01, 7.15420096e-01],\n",
       "       [9.88140204e-01, 1.18597964e-02],\n",
       "       [9.67227137e-01, 3.27728625e-02],\n",
       "       [8.85912981e-01, 1.14087019e-01],\n",
       "       [9.02106081e-01, 9.78939192e-02],\n",
       "       [8.68201017e-01, 1.31798983e-01],\n",
       "       [8.79787283e-01, 1.20212717e-01],\n",
       "       [2.65044315e-01, 7.34955685e-01],\n",
       "       [7.01313373e-01, 2.98686627e-01],\n",
       "       [5.13865988e-01, 4.86134012e-01],\n",
       "       [5.71012743e-01, 4.28987257e-01],\n",
       "       [5.67689849e-01, 4.32310151e-01],\n",
       "       [9.76628405e-01, 2.33715954e-02],\n",
       "       [3.92801648e-01, 6.07198352e-01],\n",
       "       [9.89798494e-01, 1.02015064e-02],\n",
       "       [6.08963221e-02, 9.39103678e-01],\n",
       "       [9.82456593e-01, 1.75434074e-02],\n",
       "       [3.01248900e-03, 9.96987511e-01],\n",
       "       [2.76109925e-01, 7.23890075e-01],\n",
       "       [1.87281023e-01, 8.12718977e-01],\n",
       "       [8.37389975e-01, 1.62610025e-01],\n",
       "       [2.19081199e-02, 9.78091880e-01],\n",
       "       [9.17864385e-01, 8.21356151e-02],\n",
       "       [3.99075825e-01, 6.00924175e-01],\n",
       "       [9.70713721e-01, 2.92862785e-02],\n",
       "       [2.82296567e-01, 7.17703433e-01],\n",
       "       [1.86903663e-01, 8.13096337e-01],\n",
       "       [9.95973230e-01, 4.02676990e-03],\n",
       "       [4.61208420e-01, 5.38791580e-01],\n",
       "       [9.79398402e-01, 2.06015978e-02],\n",
       "       [9.62469507e-01, 3.75304927e-02],\n",
       "       [1.79217081e-01, 8.20782919e-01],\n",
       "       [1.42639563e-02, 9.85736044e-01],\n",
       "       [2.70489297e-01, 7.29510703e-01],\n",
       "       [4.10689956e-01, 5.89310044e-01],\n",
       "       [2.25376172e-01, 7.74623828e-01],\n",
       "       [8.09876189e-01, 1.90123811e-01],\n",
       "       [2.65029814e-03, 9.97349702e-01],\n",
       "       [9.58955708e-01, 4.10442916e-02],\n",
       "       [1.56343626e-02, 9.84365637e-01],\n",
       "       [2.97920039e-01, 7.02079961e-01],\n",
       "       [9.22665204e-01, 7.73347964e-02],\n",
       "       [4.50140216e-01, 5.49859784e-01],\n",
       "       [6.12067947e-01, 3.87932053e-01],\n",
       "       [9.49754882e-01, 5.02451181e-02],\n",
       "       [1.80822846e-01, 8.19177154e-01],\n",
       "       [5.29178202e-02, 9.47082180e-01],\n",
       "       [5.15934469e-01, 4.84065531e-01],\n",
       "       [9.89382261e-01, 1.06177394e-02],\n",
       "       [7.37402618e-01, 2.62597382e-01],\n",
       "       [3.19546594e-02, 9.68045341e-01],\n",
       "       [9.38028015e-01, 6.19719846e-02],\n",
       "       [9.70028798e-01, 2.99712022e-02],\n",
       "       [8.23031775e-01, 1.76968225e-01],\n",
       "       [4.93982109e-02, 9.50601789e-01],\n",
       "       [4.65513993e-01, 5.34486007e-01],\n",
       "       [3.96250375e-02, 9.60374963e-01],\n",
       "       [9.61898115e-01, 3.81018853e-02],\n",
       "       [6.28951007e-01, 3.71048993e-01],\n",
       "       [3.47793267e-02, 9.65220673e-01],\n",
       "       [1.30633198e-02, 9.86936680e-01],\n",
       "       [9.85146163e-01, 1.48538367e-02],\n",
       "       [8.88042519e-01, 1.11957481e-01],\n",
       "       [9.14262841e-01, 8.57371588e-02],\n",
       "       [1.72758175e-01, 8.27241825e-01],\n",
       "       [2.36460149e-02, 9.76353985e-01],\n",
       "       [3.21908712e-01, 6.78091288e-01],\n",
       "       [7.52352435e-01, 2.47647565e-01],\n",
       "       [3.56161575e-01, 6.43838425e-01],\n",
       "       [1.65359276e-02, 9.83464072e-01],\n",
       "       [5.03370387e-02, 9.49662961e-01],\n",
       "       [1.20533048e-02, 9.87946695e-01],\n",
       "       [9.95256932e-01, 4.74306796e-03],\n",
       "       [1.31930593e-02, 9.86806941e-01],\n",
       "       [1.27758125e-01, 8.72241875e-01],\n",
       "       [8.40647629e-02, 9.15935237e-01],\n",
       "       [7.13016477e-02, 9.28698352e-01],\n",
       "       [1.32321809e-01, 8.67678191e-01],\n",
       "       [9.21519972e-02, 9.07848003e-01],\n",
       "       [8.50939753e-01, 1.49060247e-01],\n",
       "       [2.30227606e-02, 9.76977239e-01],\n",
       "       [8.86943574e-01, 1.13056426e-01],\n",
       "       [6.84184903e-02, 9.31581510e-01],\n",
       "       [9.23263269e-01, 7.67367314e-02],\n",
       "       [1.66874116e-02, 9.83312588e-01],\n",
       "       [7.68875510e-03, 9.92311245e-01],\n",
       "       [5.72472607e-03, 9.94275274e-01],\n",
       "       [9.67003933e-01, 3.29960671e-02],\n",
       "       [5.74130352e-01, 4.25869648e-01],\n",
       "       [9.99197542e-01, 8.02457902e-04],\n",
       "       [9.91272953e-01, 8.72704663e-03],\n",
       "       [9.99771079e-01, 2.28920555e-04],\n",
       "       [5.09398649e-03, 9.94906014e-01],\n",
       "       [6.95993829e-01, 3.04006171e-01],\n",
       "       [7.83584862e-01, 2.16415138e-01],\n",
       "       [1.30118511e-01, 8.69881489e-01],\n",
       "       [3.67539608e-02, 9.63246039e-01],\n",
       "       [4.15507917e-01, 5.84492083e-01],\n",
       "       [8.11950457e-01, 1.88049543e-01],\n",
       "       [1.60044887e-05, 9.99983996e-01],\n",
       "       [1.04542008e-01, 8.95457992e-01],\n",
       "       [6.79759570e-01, 3.20240430e-01],\n",
       "       [4.51515575e-02, 9.54848443e-01],\n",
       "       [8.80189893e-01, 1.19810107e-01],\n",
       "       [9.99223133e-01, 7.76867443e-04],\n",
       "       [4.89481205e-01, 5.10518795e-01],\n",
       "       [1.63569183e-02, 9.83643082e-01],\n",
       "       [1.64785080e-02, 9.83521492e-01],\n",
       "       [1.07653255e-01, 8.92346745e-01],\n",
       "       [1.05463761e-02, 9.89453624e-01],\n",
       "       [6.88169904e-01, 3.11830096e-01],\n",
       "       [4.21925753e-02, 9.57807425e-01],\n",
       "       [9.08437571e-01, 9.15624293e-02],\n",
       "       [1.26215220e-01, 8.73784780e-01],\n",
       "       [4.29626803e-01, 5.70373197e-01],\n",
       "       [4.37813944e-01, 5.62186056e-01],\n",
       "       [6.85862548e-01, 3.14137452e-01],\n",
       "       [1.53936968e-01, 8.46063032e-01],\n",
       "       [9.25508427e-01, 7.44915733e-02],\n",
       "       [2.77672214e-02, 9.72232779e-01],\n",
       "       [1.86859510e-01, 8.13140490e-01],\n",
       "       [5.17337802e-01, 4.82662198e-01],\n",
       "       [2.47819083e-02, 9.75218092e-01],\n",
       "       [6.95415338e-01, 3.04584662e-01],\n",
       "       [1.37303306e-01, 8.62696694e-01],\n",
       "       [6.62922109e-01, 3.37077891e-01],\n",
       "       [8.51216204e-01, 1.48783796e-01],\n",
       "       [1.88473906e-01, 8.11526094e-01],\n",
       "       [1.24381216e-02, 9.87561878e-01],\n",
       "       [8.32853970e-01, 1.67146030e-01],\n",
       "       [3.19146283e-01, 6.80853717e-01],\n",
       "       [3.83038365e-03, 9.96169616e-01],\n",
       "       [1.19821757e-01, 8.80178243e-01],\n",
       "       [9.99766238e-01, 2.33762196e-04],\n",
       "       [2.12455678e-01, 7.87544322e-01],\n",
       "       [7.20859206e-01, 2.79140794e-01],\n",
       "       [9.99969090e-01, 3.09095419e-05],\n",
       "       [9.90526858e-01, 9.47314214e-03],\n",
       "       [5.94379212e-02, 9.40562079e-01],\n",
       "       [9.75628135e-01, 2.43718648e-02],\n",
       "       [1.20310249e-01, 8.79689751e-01],\n",
       "       [9.68467720e-01, 3.15322800e-02],\n",
       "       [4.56584441e-02, 9.54341556e-01],\n",
       "       [1.25842760e-01, 8.74157240e-01],\n",
       "       [3.33444835e-01, 6.66555165e-01],\n",
       "       [7.42611730e-01, 2.57388270e-01],\n",
       "       [3.41941935e-02, 9.65805806e-01],\n",
       "       [4.23718689e-02, 9.57628131e-01],\n",
       "       [9.95771457e-01, 4.22854329e-03],\n",
       "       [1.04424712e-01, 8.95575288e-01],\n",
       "       [1.36054683e-01, 8.63945317e-01],\n",
       "       [5.00000000e-01, 5.00000000e-01],\n",
       "       [8.95456826e-01, 1.04543174e-01],\n",
       "       [3.50943943e-01, 6.49056057e-01],\n",
       "       [6.21632331e-01, 3.78367669e-01],\n",
       "       [3.53816444e-01, 6.46183556e-01],\n",
       "       [1.81892799e-01, 8.18107201e-01],\n",
       "       [7.81445444e-02, 9.21855456e-01],\n",
       "       [2.01703019e-02, 9.79829698e-01],\n",
       "       [8.47048452e-01, 1.52951548e-01],\n",
       "       [6.46132777e-01, 3.53867223e-01],\n",
       "       [6.87428871e-02, 9.31257113e-01],\n",
       "       [2.07013544e-01, 7.92986456e-01],\n",
       "       [9.85070444e-01, 1.49295556e-02],\n",
       "       [1.80506344e-06, 9.99998195e-01],\n",
       "       [7.10155012e-01, 2.89844988e-01],\n",
       "       [6.20266052e-01, 3.79733948e-01],\n",
       "       [2.17214619e-02, 9.78278538e-01],\n",
       "       [1.09993125e-02, 9.89000687e-01],\n",
       "       [9.61916954e-01, 3.80830464e-02],\n",
       "       [4.01992010e-02, 9.59800799e-01],\n",
       "       [3.77793288e-01, 6.22206712e-01],\n",
       "       [1.11639888e-02, 9.88836011e-01],\n",
       "       [9.93699872e-01, 6.30012763e-03],\n",
       "       [6.55958716e-01, 3.44041284e-01],\n",
       "       [1.34334267e-01, 8.65665733e-01],\n",
       "       [5.00000000e-01, 5.00000000e-01],\n",
       "       [9.16735657e-01, 8.32643426e-02],\n",
       "       [1.05698992e-01, 8.94301008e-01],\n",
       "       [9.22346424e-01, 7.76535763e-02],\n",
       "       [2.04305039e-01, 7.95694961e-01],\n",
       "       [9.72216929e-01, 2.77830710e-02],\n",
       "       [5.66856390e-02, 9.43314361e-01],\n",
       "       [7.11315363e-03, 9.92886846e-01],\n",
       "       [3.36781680e-01, 6.63218320e-01],\n",
       "       [1.23022551e-01, 8.76977449e-01],\n",
       "       [1.71605055e-02, 9.82839494e-01],\n",
       "       [5.71762054e-01, 4.28237946e-01],\n",
       "       [8.31947003e-01, 1.68052997e-01],\n",
       "       [8.90595843e-01, 1.09404157e-01],\n",
       "       [7.17481366e-02, 9.28251863e-01],\n",
       "       [1.51033102e-01, 8.48966898e-01],\n",
       "       [1.82867230e-02, 9.81713277e-01],\n",
       "       [3.57759004e-01, 6.42240996e-01],\n",
       "       [5.55061707e-01, 4.44938293e-01],\n",
       "       [2.07283631e-01, 7.92716369e-01],\n",
       "       [1.22489770e-01, 8.77510230e-01],\n",
       "       [8.74335984e-01, 1.25664016e-01],\n",
       "       [9.41937781e-01, 5.80622188e-02],\n",
       "       [8.54733508e-01, 1.45266492e-01],\n",
       "       [9.90842817e-01, 9.15718317e-03],\n",
       "       [8.00678546e-02, 9.19932145e-01],\n",
       "       [9.79112112e-02, 9.02088789e-01],\n",
       "       [4.61697945e-01, 5.38302055e-01],\n",
       "       [3.21163008e-03, 9.96788370e-01],\n",
       "       [9.63922058e-01, 3.60779416e-02],\n",
       "       [9.30204617e-01, 6.97953827e-02],\n",
       "       [6.00392321e-01, 3.99607679e-01],\n",
       "       [4.59857986e-01, 5.40142014e-01],\n",
       "       [5.86669249e-02, 9.41333075e-01],\n",
       "       [8.79029484e-01, 1.20970516e-01],\n",
       "       [9.16495305e-01, 8.35046954e-02],\n",
       "       [9.93084740e-01, 6.91526035e-03],\n",
       "       [1.48302060e-01, 8.51697940e-01],\n",
       "       [3.90502021e-02, 9.60949798e-01],\n",
       "       [3.54522625e-01, 6.45477375e-01],\n",
       "       [6.34144935e-03, 9.93658551e-01],\n",
       "       [5.32620893e-01, 4.67379107e-01],\n",
       "       [8.99159665e-01, 1.00840335e-01],\n",
       "       [2.50278912e-01, 7.49721088e-01],\n",
       "       [1.80893873e-02, 9.81910613e-01],\n",
       "       [1.87567950e-01, 8.12432050e-01],\n",
       "       [3.97189761e-01, 6.02810239e-01],\n",
       "       [1.53507581e-01, 8.46492419e-01],\n",
       "       [7.81582821e-01, 2.18417179e-01],\n",
       "       [9.49634846e-01, 5.03651539e-02],\n",
       "       [2.38946781e-01, 7.61053219e-01],\n",
       "       [9.55966365e-01, 4.40336353e-02],\n",
       "       [7.95183920e-01, 2.04816080e-01],\n",
       "       [9.84745561e-01, 1.52544386e-02],\n",
       "       [6.51259421e-03, 9.93487406e-01],\n",
       "       [6.39008129e-03, 9.93609919e-01],\n",
       "       [9.91458353e-01, 8.54164668e-03],\n",
       "       [9.35568830e-01, 6.44311699e-02],\n",
       "       [6.47576349e-01, 3.52423651e-01],\n",
       "       [9.34827195e-01, 6.51728055e-02],\n",
       "       [8.68936658e-01, 1.31063342e-01],\n",
       "       [2.38832745e-01, 7.61167255e-01],\n",
       "       [3.30290089e-02, 9.66970991e-01],\n",
       "       [2.45054811e-01, 7.54945189e-01],\n",
       "       [9.18677275e-01, 8.13227252e-02],\n",
       "       [8.47926249e-01, 1.52073751e-01],\n",
       "       [9.88088119e-01, 1.19118806e-02],\n",
       "       [6.68283577e-01, 3.31716423e-01],\n",
       "       [5.74381775e-01, 4.25618225e-01],\n",
       "       [6.61149685e-01, 3.38850315e-01],\n",
       "       [8.34925201e-01, 1.65074799e-01],\n",
       "       [7.73136852e-01, 2.26863148e-01],\n",
       "       [2.30386950e-01, 7.69613050e-01],\n",
       "       [5.18078978e-01, 4.81921022e-01],\n",
       "       [1.48491182e-01, 8.51508818e-01],\n",
       "       [1.31027275e-01, 8.68972725e-01],\n",
       "       [1.41645588e-02, 9.85835441e-01],\n",
       "       [7.77285936e-01, 2.22714064e-01],\n",
       "       [9.27916913e-01, 7.20830871e-02],\n",
       "       [8.18461144e-01, 1.81538856e-01],\n",
       "       [9.83887061e-01, 1.61129390e-02],\n",
       "       [9.25734235e-01, 7.42657646e-02],\n",
       "       [8.84717214e-01, 1.15282786e-01],\n",
       "       [9.51297265e-01, 4.87027350e-02],\n",
       "       [6.14868632e-01, 3.85131368e-01],\n",
       "       [9.74787938e-01, 2.52120618e-02],\n",
       "       [1.53354315e-02, 9.84664569e-01],\n",
       "       [7.14252541e-01, 2.85747459e-01],\n",
       "       [8.80223651e-01, 1.19776349e-01],\n",
       "       [1.09694672e-01, 8.90305328e-01],\n",
       "       [1.90244489e-02, 9.80975551e-01],\n",
       "       [9.94126228e-01, 5.87377235e-03],\n",
       "       [8.47887012e-01, 1.52112988e-01],\n",
       "       [2.80525449e-01, 7.19474551e-01],\n",
       "       [6.36226653e-03, 9.93637733e-01],\n",
       "       [9.95017968e-01, 4.98203201e-03],\n",
       "       [1.00148001e-01, 8.99851999e-01],\n",
       "       [4.23219998e-01, 5.76780002e-01],\n",
       "       [8.22279415e-02, 9.17772059e-01],\n",
       "       [9.90039800e-01, 9.96020004e-03],\n",
       "       [1.69620612e-01, 8.30379388e-01],\n",
       "       [6.58866520e-02, 9.34113348e-01],\n",
       "       [8.61987328e-01, 1.38012672e-01],\n",
       "       [8.24413358e-02, 9.17558664e-01],\n",
       "       [4.31510647e-02, 9.56848935e-01],\n",
       "       [9.16020214e-01, 8.39797858e-02],\n",
       "       [2.99255426e-02, 9.70074457e-01],\n",
       "       [9.98559065e-01, 1.44093488e-03],\n",
       "       [8.94188070e-01, 1.05811930e-01],\n",
       "       [2.56404948e-01, 7.43595052e-01],\n",
       "       [6.38993331e-01, 3.61006669e-01],\n",
       "       [8.80268765e-01, 1.19731235e-01],\n",
       "       [9.65969264e-01, 3.40307361e-02],\n",
       "       [9.55995368e-01, 4.40046322e-02],\n",
       "       [6.03585991e-02, 9.39641401e-01],\n",
       "       [9.65203351e-01, 3.47966492e-02],\n",
       "       [9.98212072e-01, 1.78792774e-03],\n",
       "       [9.95205027e-01, 4.79497342e-03],\n",
       "       [1.40709984e-02, 9.85929002e-01],\n",
       "       [2.83308009e-03, 9.97166920e-01],\n",
       "       [8.59522556e-01, 1.40477444e-01],\n",
       "       [1.44617982e-01, 8.55382018e-01],\n",
       "       [4.62957752e-01, 5.37042248e-01],\n",
       "       [2.96682307e-01, 7.03317693e-01],\n",
       "       [2.83191770e-01, 7.16808230e-01],\n",
       "       [2.66139680e-01, 7.33860320e-01],\n",
       "       [9.54750067e-01, 4.52499332e-02],\n",
       "       [3.31516099e-02, 9.66848390e-01],\n",
       "       [9.59006023e-01, 4.09939772e-02],\n",
       "       [6.79613268e-01, 3.20386732e-01],\n",
       "       [3.39749701e-02, 9.66025030e-01],\n",
       "       [2.28726939e-01, 7.71273061e-01],\n",
       "       [9.99848145e-01, 1.51854643e-04],\n",
       "       [7.92378076e-01, 2.07621924e-01],\n",
       "       [3.94900255e-01, 6.05099745e-01],\n",
       "       [7.36514656e-01, 2.63485344e-01],\n",
       "       [4.94488260e-01, 5.05511740e-01],\n",
       "       [8.39586055e-01, 1.60413945e-01],\n",
       "       [9.34732258e-01, 6.52677418e-02],\n",
       "       [7.47404491e-01, 2.52595509e-01],\n",
       "       [7.28834372e-02, 9.27116563e-01],\n",
       "       [9.87912692e-01, 1.20873079e-02],\n",
       "       [2.24098022e-02, 9.77590198e-01],\n",
       "       [6.47336348e-02, 9.35266365e-01],\n",
       "       [1.29506760e-02, 9.87049324e-01],\n",
       "       [5.00000000e-01, 5.00000000e-01],\n",
       "       [8.85642954e-01, 1.14357046e-01],\n",
       "       [2.54243558e-01, 7.45756442e-01],\n",
       "       [9.33765984e-01, 6.62340163e-02],\n",
       "       [9.98175406e-01, 1.82459385e-03],\n",
       "       [1.55759530e-01, 8.44240470e-01],\n",
       "       [6.64421833e-01, 3.35578167e-01],\n",
       "       [7.89165640e-02, 9.21083436e-01],\n",
       "       [2.22007981e-01, 7.77992019e-01],\n",
       "       [8.96607168e-01, 1.03392832e-01],\n",
       "       [9.41352626e-02, 9.05864737e-01],\n",
       "       [9.12728421e-01, 8.72715791e-02],\n",
       "       [1.85352840e-01, 8.14647160e-01],\n",
       "       [9.33699013e-01, 6.63009870e-02],\n",
       "       [8.98088624e-01, 1.01911376e-01],\n",
       "       [8.23242357e-01, 1.76757643e-01],\n",
       "       [4.61912317e-01, 5.38087683e-01],\n",
       "       [6.93151944e-01, 3.06848056e-01],\n",
       "       [5.38136109e-01, 4.61863891e-01],\n",
       "       [3.52319900e-01, 6.47680100e-01],\n",
       "       [9.97651217e-01, 2.34878255e-03],\n",
       "       [3.76098176e-01, 6.23901824e-01]])"
      ]
     },
     "execution_count": 5,
     "metadata": {},
     "output_type": "execute_result"
    }
   ],
   "source": [
    "per.predict_proba(X_test)"
   ]
  },
  {
   "cell_type": "code",
   "execution_count": 6,
   "metadata": {},
   "outputs": [],
   "source": [
    "from sklearn.metrics import precision_recall_curve\n",
    "prec,rec,thresh = precision_recall_curve(Y_test,per.predict_proba(X_test)[:,1])\n",
    "prec_rbf,rec_rbf,thresh_rbf = precision_recall_curve(Y_test,per_rbf.predict_proba(X_test)[:,1])"
   ]
  },
  {
   "cell_type": "markdown",
   "metadata": {},
   "source": [
    "### Tradeoff between precision and recall"
   ]
  },
  {
   "cell_type": "code",
   "execution_count": 7,
   "metadata": {},
   "outputs": [
    {
     "data": {
      "text/plain": [
       "[<matplotlib.lines.Line2D at 0x12631a9d0>]"
      ]
     },
     "execution_count": 7,
     "metadata": {},
     "output_type": "execute_result"
    },
    {
     "data": {
      "image/png": "[encoded data removed]",
      "text/plain": [
       "<Figure size 640x480 with 1 Axes>"
      ]
     },
     "metadata": {},
     "output_type": "display_data"
    }
   ],
   "source": [
    "import matplotlib.pyplot as plt\n",
    "plt.plot(thresh,prec[:-1])\n",
    "plt.plot(thresh,rec[:-1])"
   ]
  },
  {
   "cell_type": "markdown",
   "metadata": {},
   "source": [
    "### Precision and recall curve\n",
    "\n",
    "It is customary to plot the precision as a function of recall into the so called precision and recall curve"
   ]
  },
  {
   "cell_type": "code",
   "execution_count": 8,
   "metadata": {},
   "outputs": [
    {
     "data": {
      "text/plain": [
       "(0.0, 1.0)"
      ]
     },
     "execution_count": 8,
     "metadata": {},
     "output_type": "execute_result"
    },
    {
     "data": {
      "image/png": "[encoded data removed]",
      "text/plain": [
       "<Figure size 640x480 with 1 Axes>"
      ]
     },
     "metadata": {},
     "output_type": "display_data"
    }
   ],
   "source": [
    "plt.plot(rec,prec)\n",
    "plt.plot(rec_rbf,prec_rbf)\n",
    "plt.xlim(0,1)\n",
    "plt.ylim(0,1)"
   ]
  },
  {
   "cell_type": "markdown",
   "metadata": {},
   "source": [
    "### Average precision\n",
    "$$\n",
    "    p(r) = \\text{Pr}(\\text{Re}^{-1}(r))\n",
    "$$\n",
    "then $p(r)$ is the curve above where the $x$-axis is $r$ (recall) and the $y$ axis is precision.\n",
    "Average precision is thus just\n",
    "$$\n",
    "    \\text{AP} = \\int_0^1 p(r) dr\n",
    "$$\n",
    "or also called Area Under the Precision Recall Curve."
   ]
  },
  {
   "cell_type": "markdown",
   "metadata": {},
   "source": [
    "If we call $\\mathbb{P}(g_\\alpha(X) = 1) = t$, the detection level, where $t(1) = 0$ and $t(0) = 1$. Then\n",
    "$$\n",
    "    p(t) = \\text{Pr}(\\alpha) = \\mathbb{P}(Y=1 \\mid g_\\alpha(X)=1) = Re(\\alpha) \\frac{\\mathbb{P}(Y = 1)}{\\mathbb{P}(g_\\alpha(X) = 1)}\n",
    "$$\n",
    "and\n",
    "$$\n",
    "    r(t) = \\text{Re}(\\alpha)\n",
    "$$\n",
    "then we get\n",
    "$$\n",
    "    p(t) = \\frac{\\mathbb{P}(Y = 1) r(t)}{t}\n",
    "$$\n",
    "\n",
    "This equation captures the trade-off between precision and recall as functions of the detection level.\n",
    "\n",
    "It may look like average precision is a strange quantity, and indeed it is. See for instance the review paper on the course website."
   ]
  },
  {
   "cell_type": "code",
   "execution_count": 9,
   "metadata": {},
   "outputs": [
    {
     "data": {
      "text/plain": [
       "0.9644648496449508"
      ]
     },
     "execution_count": 9,
     "metadata": {},
     "output_type": "execute_result"
    }
   ],
   "source": [
    "from sklearn.metrics import average_precision_score\n",
    "average_precision_score(Y_test,per.predict_proba(X_test)[:,1])"
   ]
  },
  {
   "cell_type": "code",
   "execution_count": 10,
   "metadata": {},
   "outputs": [
    {
     "data": {
      "text/plain": [
       "0.9984292923596588"
      ]
     },
     "execution_count": 10,
     "metadata": {},
     "output_type": "execute_result"
    }
   ],
   "source": [
    "average_precision_score(Y_test,per_rbf.predict_proba(X_test)[:,1])"
   ]
  },
  {
   "cell_type": "markdown",
   "metadata": {},
   "source": [
    "### Reciever Operating Characteristic (ROC)"
   ]
  },
  {
   "cell_type": "markdown",
   "metadata": {},
   "source": [
    "Lets consider Recall for the $0$ class vs Recall for the $1$ class\n",
    "$$\n",
    "    \\text{FPR}(\\alpha) = \\mathbb{P}(g(X)=1 \\mid Y = 0) \\quad \\text{also goes by the name false positive rate}\n",
    "$$\n",
    "$$\n",
    "    \\text{Re}(\\alpha) = \\mathbb{P}(g(X)=1 \\mid Y = 1) \\quad \\text{also goes by the name true positive rate}\n",
    "$$\n",
    "\n",
    "We can plot these using sklearn as follows"
   ]
  },
  {
   "cell_type": "code",
   "execution_count": 11,
   "metadata": {},
   "outputs": [],
   "source": [
    "from sklearn.metrics import roc_curve\n",
    "fpr,tpr,thresholds = roc_curve(Y_test,per.predict_proba(X_test)[:,1])\n",
    "fpr_rbf,tpr_rbf,thresholds_rbf = roc_curve(Y_test,per_rbf.predict_proba(X_test)[:,1])"
   ]
  },
  {
   "cell_type": "code",
   "execution_count": 12,
   "metadata": {},
   "outputs": [
    {
     "data": {
      "text/plain": [
       "[<matplotlib.lines.Line2D at 0x1264d5fd0>]"
      ]
     },
     "execution_count": 12,
     "metadata": {},
     "output_type": "execute_result"
    },
    {
     "data": {
      "image/png": "[encoded data removed]",
      "text/plain": [
       "<Figure size 640x480 with 1 Axes>"
      ]
     },
     "metadata": {},
     "output_type": "display_data"
    }
   ],
   "source": [
    "plt.plot(thresholds,fpr)\n",
    "plt.plot(thresholds,tpr)"
   ]
  },
  {
   "cell_type": "markdown",
   "metadata": {},
   "source": [
    "However more common is to consider plotting them against eachother"
   ]
  },
  {
   "cell_type": "code",
   "execution_count": 22,
   "metadata": {},
   "outputs": [
    {
     "data": {
      "text/plain": [
       "[<matplotlib.lines.Line2D at 0x1692daa60>]"
      ]
     },
     "execution_count": 22,
     "metadata": {},
     "output_type": "execute_result"
    },
    {
     "data": {
      "image/png": "[encoded data removed]",
      "text/plain": [
       "<Figure size 640x480 with 1 Axes>"
      ]
     },
     "metadata": {},
     "output_type": "display_data"
    }
   ],
   "source": [
    "plt.plot(fpr,tpr)\n",
    "plt.plot(fpr_rbf,tpr_rbf)"
   ]
  },
  {
   "cell_type": "markdown",
   "metadata": {},
   "source": [
    "This is the plot of $\\text{Re}(\\text{FPR}^{-1}(r))$.\n",
    "\n",
    "There is also the AUC, which is Area Under the Curve, which is defined as\n",
    "$$\n",
    "    \\int_0^1 \\text{Re}(\\text{FPR}^{-1}(r)) dr = -\\int_0^1 \\text{Re}(\\alpha) \\text{FPR}'(\\alpha) d\\alpha\n",
    "$$"
   ]
  },
  {
   "cell_type": "markdown",
   "metadata": {},
   "source": [
    "Both the AP (Average Precision) and the (AUC) is used as a single performance metric of a classifier."
   ]
  },
  {
   "cell_type": "markdown",
   "metadata": {},
   "source": [
    "Let $Z = G(X)$, where $G$ is the predicted probability, then $Z$ has density $F_Z$. Let $F_{Z,Y}$ be the joint distribution of $Z$ and $Y$\n",
    "\n",
    "Let\n",
    "$$\n",
    "    \\begin{aligned}\n",
    "        f_1(z) &= f_{Z \\mid Y=1} \\\\\n",
    "        f_0(z) &= f_{Z \\mid Y=0}\n",
    "    \\end{aligned}\n",
    "$$\n",
    "thus we simply get\n",
    "$$\n",
    "    \\begin{aligned}\n",
    "        \\text{FPR}(\\alpha) = \\int_{\\alpha}^1 f_0(z)dz \\\\\n",
    "        \\text{Re}(\\alpha) = \\int_{\\alpha}^1 f_1(z)dz\n",
    "    \\end{aligned}\n",
    "$$\n",
    "As such \n",
    "$$\n",
    "    \\text{Re}'(\\alpha) = -f_1(\\alpha)\n",
    "$$\n",
    "and we can write\n",
    "$$\n",
    "    -\\int_0^1 \\text{Re}(\\alpha) \\text{FPR}'(\\alpha) d\\alpha = \\int_0^1 \\int_z^1 f_1(z') f_0(z) dz dz'\n",
    "$$\n",
    "Consider $Z_1$ be a random variable sampled from $f_1$ and $Z_0$ be sampled from $f_0$. Then we can write the above as\n",
    "$$\n",
    "    \\mathbb{P}(Z_1 > Z_0) = \\int_0^1 \\int_z^1 f_1(z') f_0(z) dz dz'\n",
    "$$\n",
    "It is useful to think about what this probability means. That is, if we take a randomly chosen sample from the positive class and call it $X_1$ and do the same with class $0$ and call that $X_0$, then the AUC is the probability that $G(X_1) > G(X_0)$."
   ]
  }
 ],
 "metadata": {
  "kernelspec": {
   "display_name": "Python 3 (ipykernel)",
   "language": "python",
   "name": "python3"
  },
  "language_info": {
   "codemirror_mode": {
    "name": "ipython",
    "version": 3
   },
   "file_extension": ".py",
   "mimetype": "text/x-python",
   "name": "python",
   "nbconvert_exporter": "python",
   "pygments_lexer": "ipython3",
   "version": "3.11.3"
  },
  "lx_course_instance": "2023",
  "lx_course_name": "Introduction to Data Science",
  "lx_course_number": "1MS041"
 },
 "nbformat": 4,
 "nbformat_minor": 5
}

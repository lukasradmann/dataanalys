{
 "cells": [
  {
   "cell_type": "code",
   "execution_count": 3,
   "metadata": {},
   "outputs": [
    {
     "data": {
      "text/plain": [
       "matrix([[0.28, 0.42, 0.3 ]])"
      ]
     },
     "execution_count": 3,
     "metadata": {},
     "output_type": "execute_result"
    }
   ],
   "source": [
    "import numpy as np\n",
    "P = np.matrix([[0.3,0.4,0.3],[0.2,0.5,0.3],[0.4,0.3,0.3]])\n",
    "p0 = np.array([0,1,0])\n",
    "\n",
    "p2 = p0*(P**2)\n",
    "p2"
   ]
  },
  {
   "cell_type": "code",
   "execution_count": 39,
   "metadata": {},
   "outputs": [
    {
     "data": {
      "text/plain": [
       "array([[0.28888889],\n",
       "       [0.41111111],\n",
       "       [0.3       ]])"
      ]
     },
     "execution_count": 39,
     "metadata": {},
     "output_type": "execute_result"
    }
   ],
   "source": [
    "# pi*P=pi då är pi the stationary dist\n",
    "\n",
    "evals, evecs = np.linalg.eig(P.T)\n",
    "\n",
    "first_evec = evecs[:,0]\n",
    "\n",
    "pi = np.array(first_evec)  / np.sum(first_evec)\n",
    "pi\n"
   ]
  }
 ],
 "metadata": {
  "kernelspec": {
   "display_name": "Python 3",
   "language": "python",
   "name": "python3"
  },
  "language_info": {
   "codemirror_mode": {
    "name": "ipython",
    "version": 3
   },
   "file_extension": ".py",
   "mimetype": "text/x-python",
   "name": "python",
   "nbconvert_exporter": "python",
   "pygments_lexer": "ipython3",
   "version": "3.11.3"
  }
 },
 "nbformat": 4,
 "nbformat_minor": 2
}
